{
 "cells": [
  {
   "cell_type": "code",
   "execution_count": 1,
   "id": "1b0e7418",
   "metadata": {},
   "outputs": [],
   "source": [
    "!pip install opendatasets --quiet\n",
    "!pip install plotly --quiet\n",
    "!pip install folium --quiet\n",
    "!pip install matplotlib --quiet\n",
    "!pip install seaborn --quiet\n",
    "!pip install plotly --quiet\n",
    "!pip install wordcloud --quiet\n",
    "!pip install pandas --quiet"
   ]
  },
  {
   "cell_type": "code",
   "execution_count": 2,
   "id": "3ba1d611",
   "metadata": {},
   "outputs": [],
   "source": [
    "import opendatasets as od\n",
    "import pandas as pd\n",
    "import numpy as np\n",
    "import matplotlib\n",
    "import matplotlib.pyplot as plt\n",
    "import seaborn as sns\n",
    "import plotly.express as px\n",
    "import folium\n",
    "import wordcloud\n",
    "%matplotlib inline"
   ]
  },
  {
   "cell_type": "code",
   "execution_count": 3,
   "id": "c282fb78",
   "metadata": {},
   "outputs": [],
   "source": [
    "import pandas as pd\n",
    "import matplotlib.pyplot as plt\n",
    "import seaborn as sns\n",
    "import numpy as np\n",
    "import wordcloud\n",
    "\n",
    "import matplotlib\n",
    "import matplotlib.pyplot as plt\n",
    "import plotly.express as px"
   ]
  },
  {
   "cell_type": "markdown",
   "id": "d17ac91f",
   "metadata": {},
   "source": [
    "### Q- Which districts have reported the highest number of different crime types, and can we identify any notable patterns or trends in the distribution of crime types within these districts?\n",
    "\n",
    "We hypothesized that specific districts in Chicago would exhibit varying crime rates, and within these districts, certain wards might experience distinct crime trends. Additionally, there might be observable fluctuations in crime incidents over the years."
   ]
  },
  {
   "cell_type": "code",
   "execution_count": 5,
   "id": "c14c93b0",
   "metadata": {},
   "outputs": [
    {
     "data": {
      "text/html": [
       "<iframe\n",
       "    scrolling=\"no\"\n",
       "    width=\"100%\"\n",
       "    height=\"545px\"\n",
       "    src=\"iframe_figures/figure_5.html\"\n",
       "    frameborder=\"0\"\n",
       "    allowfullscreen\n",
       "></iframe>\n"
      ]
     },
     "metadata": {},
     "output_type": "display_data"
    }
   ],
   "source": [
    "crime_df = pd.read_csv('Chicago_Crime_2020.csv')\n",
    "crime_df['City']=\"Chicago\"\n",
    "treemap_data=crime_df.groupby(['City','District','Ward']).size().reset_index(name='Crime_Count').sort_values(by='Crime_Count', ascending=False)\n",
    "\n",
    "\n",
    "import plotly.express as px\n",
    "# Treemap data\n",
    "treemap_data = crime_df.groupby(['City', 'District', 'Ward']).size().reset_index(name='Crime_Count').sort_values(by='Crime_Count', ascending=False)\n",
    "# customizing District and Ward names for readibility\n",
    "treemap_data['District']=treemap_data['District'].apply(lambda x: f'D-{x}' )\n",
    "treemap_data['Ward']=treemap_data['Ward'].apply(lambda x: f'D-{x}' )\n",
    "\n",
    "treemap_data\n",
    "\n",
    "\n",
    "# Create the treemap\n",
    "fig = px.treemap(treemap_data,\n",
    "                 path=[px.Constant(\"City\"), 'District', 'Ward'],\n",
    "                 values='Crime_Count',\n",
    "                 color='Crime_Count',\n",
    "                 color_continuous_scale='Inferno',\n",
    "                 template='plotly_white',\n",
    "                 title='Breakdown of districts that have high crime types - 2020')\n",
    "\n",
    "\n",
    "# Show the treemap\n",
    "# fig.show(renderer=\"colab\")\n",
    "# fig.show()\n",
    "fig.update_layout(margin = dict(t=50, l=25, r=25, b=25))\n",
    "fig.show()"
   ]
  },
  {
   "cell_type": "markdown",
   "id": "92876f70",
   "metadata": {},
   "source": [
    "![](Images/Breakdown2020.png)"
   ]
  },
  {
   "cell_type": "code",
   "execution_count": null,
   "id": "a6af76ad",
   "metadata": {},
   "outputs": [],
   "source": [
    "crime_df = pd.read_csv('Chicago_Crime_2021.csv')\n",
    "crime_df['City']=\"Chicago\"\n",
    "treemap_data=crime_df.groupby(['City','District','Ward']).size().reset_index(name='Crime_Count').sort_values(by='Crime_Count', ascending=False)\n",
    "\n",
    "# Treemap data\n",
    "treemap_data = crime_df.groupby(['City', 'District', 'Ward']).size().reset_index(name='Crime_Count').sort_values(by='Crime_Count', ascending=False)\n",
    "# customizing District and Ward names for readibility\n",
    "treemap_data['District']=treemap_data['District'].apply(lambda x: f'D-{x}' )\n",
    "treemap_data['Ward']=treemap_data['Ward'].apply(lambda x: f'D-{x}' )\n",
    "\n",
    "treemap_data\n",
    "\n",
    "\n",
    "# Create the treemap\n",
    "fig = px.treemap(treemap_data,\n",
    "                 path=[px.Constant(\"City\"), 'District', 'Ward'],\n",
    "                 values='Crime_Count',\n",
    "                 color='Crime_Count',\n",
    "                 color_continuous_scale='Inferno',\n",
    "                 template='plotly_white',\n",
    "                 title='Breakdown of districts that have high crime types - 2021')\n",
    "\n",
    "\n",
    "# Show the treemap\n",
    "# fig.show(renderer=\"colab\")\n",
    "# fig.show()\n",
    "fig.update_layout(margin = dict(t=50, l=25, r=25, b=25))\n",
    "fig.show()\n"
   ]
  },
  {
   "cell_type": "markdown",
   "id": "66ec781d",
   "metadata": {},
   "source": [
    "![](Images/Seasonal_VariationSF.png)"
   ]
  },
  {
   "cell_type": "code",
   "execution_count": null,
   "id": "2c5d35c7",
   "metadata": {},
   "outputs": [],
   "source": [
    "crime_df = pd.read_csv('Chicago_Crime_2022.csv')\n",
    "crime_df['City']=\"Chicago\"\n",
    "treemap_data=crime_df.groupby(['City','District','Ward']).size().reset_index(name='Crime_Count').sort_values(by='Crime_Count', ascending=False)\n",
    "\n",
    "# Treemap data\n",
    "treemap_data = crime_df.groupby(['City', 'District', 'Ward']).size().reset_index(name='Crime_Count').sort_values(by='Crime_Count', ascending=False)\n",
    "# customizing District and Ward names for readibility\n",
    "treemap_data['District']=treemap_data['District'].apply(lambda x: f'D-{x}' )\n",
    "treemap_data['Ward']=treemap_data['Ward'].apply(lambda x: f'D-{x}' )\n",
    "\n",
    "treemap_data\n",
    "\n",
    "\n",
    "# Create the treemap\n",
    "fig = px.treemap(treemap_data,\n",
    "                 path=[px.Constant(\"City\"), 'District', 'Ward'],\n",
    "                 values='Crime_Count',\n",
    "                 color='Crime_Count',\n",
    "                 color_continuous_scale='Inferno',\n",
    "                 template='plotly_white',\n",
    "                 title='Breakdown of districts that have high crime types - 2022')\n",
    "\n",
    "\n",
    "# Show the treemap\n",
    "# fig.show(renderer=\"colab\")\n",
    "# fig.show()\n",
    "fig.update_layout(margin = dict(t=50, l=25, r=25, b=25))\n",
    "fig.show()"
   ]
  },
  {
   "cell_type": "markdown",
   "id": "4298cbc8",
   "metadata": {},
   "source": [
    "![](Images/Breakdown2022.png)"
   ]
  },
  {
   "cell_type": "markdown",
   "id": "84bb9a7a",
   "metadata": {},
   "source": [
    "### Observation\n",
    "\n",
    "Following the analysis of crime rates in Chicago districts and wards:\n",
    "\n",
    "- **High-Crime Districts:** Districts 11, 8, 6, 4, 12, and 7 emerged with the highest reported crime rates.\n",
    "\n",
    "- **District 11:** Ward 28 within District 11 experienced a considerable volume of crimes in 2020. However, there was a noticeable decline in crime incidents within this ward in 2022, indicating positive progress for law enforcement efforts.\n",
    "\n",
    "- **District 8:** Ward 15 displayed a significant number of reported crimes.\n",
    "\n",
    "- **District 6:** Ward 21 in District 6 exhibited elevated crime rates.\n",
    "\n",
    "\n",
    "The analysis affirmed the hypothesis by identifying specific districts and wards in Chicago with higher reported crime rates. Notably, certain areas experienced fluctuations in crime incidents over the years, showcasing both positive developments and persisting challenges for law enforcement.\n",
    "\n",
    "The substantial decline in crime incidents within Ward 28 of District 11 between 2020 and 2022 is promising, indicating potential success in law enforcement strategies or community interventions. However, further investigations are needed to understand the factors influencing these fluctuations in crime rates within specific districts and wards for more effective crime prevention and mitigation strategies."
   ]
  },
  {
   "cell_type": "code",
   "execution_count": null,
   "id": "54a7361b",
   "metadata": {},
   "outputs": [],
   "source": []
  },
  {
   "cell_type": "code",
   "execution_count": null,
   "id": "660e3bb7",
   "metadata": {},
   "outputs": [],
   "source": []
  },
  {
   "cell_type": "code",
   "execution_count": null,
   "id": "4c46d7bc",
   "metadata": {},
   "outputs": [],
   "source": []
  },
  {
   "cell_type": "code",
   "execution_count": null,
   "id": "d785be9a",
   "metadata": {},
   "outputs": [],
   "source": []
  }
 ],
 "metadata": {
  "kernelspec": {
   "display_name": "Python 3 (ipykernel)",
   "language": "python",
   "name": "python3"
  },
  "language_info": {
   "codemirror_mode": {
    "name": "ipython",
    "version": 3
   },
   "file_extension": ".py",
   "mimetype": "text/x-python",
   "name": "python",
   "nbconvert_exporter": "python",
   "pygments_lexer": "ipython3",
   "version": "3.9.13"
  }
 },
 "nbformat": 4,
 "nbformat_minor": 5
}
